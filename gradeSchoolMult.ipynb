{
 "cells": [
  {
   "cell_type": "code",
   "execution_count": null,
   "metadata": {},
   "outputs": [],
   "source": [
    "# Grade School Multiplication algorithm #\n",
    "#########################################\n",
    "# 1234 x 5678      \n",
    "# -----------\n",
    "#        9872    *for each of partial mults we need n multiplications and at most n carry additions\n",
    "#       8638o       so we have 2n operations\n",
    "#      7404oo    *we have n partial multiplications, so number of operations is at most 2n**2\n",
    "#     6170ooo       therefore, time complexity of Grade School Multiplication is O(n**2)\n",
    "\n",
    "\n",
    "def gradeSchoolMult(x, y):\n",
    "    \"\"\"Multiply two integers using the grade-school algorithm.\"\"\"\n",
    "    #convert x and y to strings for easier manipulation\n",
    "    x = str(x)\n",
    "    y = str(y)\n",
    "    \n",
    "    #sum of partial multiplications to be returned\n",
    "    sumPartial = 0\n",
    "    \n",
    "    #loop trough digits of x, LSB to MSB\n",
    "    for i in range(len(x)-1, -1, -1):\n",
    "        #keeping track of carry\n",
    "        carry = 0\n",
    "        #partial multiplications as str, with added zeros\n",
    "        partial = '0' * (len(x)-1-i)\n",
    "        #loop trought digits of y, LSB to MSB\n",
    "        for j in range(len(y)-1, -1, -1):\n",
    "            #mult digits of x and y, keeping track of carry\n",
    "            z = int(x[i])*int(y[j])\n",
    "            z += carry\n",
    "            #convert to string for easier manipulation\n",
    "            z = str(z)   \n",
    "            carry = int(z[0])\n",
    "            #adding digit to partial mult\n",
    "            partial = z[-1] + partial\n",
    "        #taking care of leftover carry\n",
    "        if carry > 0 :\n",
    "            partial = str(carry) + partial\n",
    "        #adding partial multiplication to final sum\n",
    "        sumPartial += int(partial)\n",
    "return sumPartial\n",
    "\n",
    "\n",
    "print(gradeSchoolMult(1234,5678))\n",
    "    \n",
    "            "
   ]
  }
 ],
 "metadata": {
  "kernelspec": {
   "display_name": "Python 3",
   "language": "python",
   "name": "python3"
  },
  "language_info": {
   "codemirror_mode": {
    "name": "ipython",
    "version": 3
   },
   "file_extension": ".py",
   "mimetype": "text/x-python",
   "name": "python",
   "nbconvert_exporter": "python",
   "pygments_lexer": "ipython3",
   "version": "3.6.7"
  }
 },
 "nbformat": 4,
 "nbformat_minor": 2
}
